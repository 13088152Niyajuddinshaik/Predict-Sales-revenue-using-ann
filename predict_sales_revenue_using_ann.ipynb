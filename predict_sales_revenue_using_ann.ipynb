{
  "nbformat": 4,
  "nbformat_minor": 0,
  "metadata": {
    "colab": {
      "provenance": []
    },
    "kernelspec": {
      "name": "python3",
      "display_name": "Python 3"
    },
    "accelerator": "GPU"
  },
  "cells": [
    {
      "cell_type": "markdown",
      "metadata": {
        "id": "lE9eFxhs5baX"
      },
      "source": [
        "## STEP#0: Import Libraries"
      ]
    },
    {
      "cell_type": "code",
      "metadata": {
        "id": "XjEM_6CP5bvw",
        "colab": {
          "base_uri": "https://localhost:8080/"
        },
        "outputId": "83c56638-6673-426e-a49f-afba48314dfc"
      },
      "source": [
        "!pip install tensorflow\n",
        "try:\n",
        "  %tensorflow_version 1.x\n",
        "except Exception:\n",
        "  pass"
      ],
      "execution_count": null,
      "outputs": [
        {
          "output_type": "stream",
          "name": "stdout",
          "text": [
            "Looking in indexes: https://pypi.org/simple, https://us-python.pkg.dev/colab-wheels/public/simple/\n",
            "Requirement already satisfied: tensorflow in /usr/local/lib/python3.8/dist-packages (2.11.0)\n",
            "Requirement already satisfied: grpcio<2.0,>=1.24.3 in /usr/local/lib/python3.8/dist-packages (from tensorflow) (1.51.3)\n",
            "Requirement already satisfied: tensorboard<2.12,>=2.11 in /usr/local/lib/python3.8/dist-packages (from tensorflow) (2.11.2)\n",
            "Requirement already satisfied: astunparse>=1.6.0 in /usr/local/lib/python3.8/dist-packages (from tensorflow) (1.6.3)\n",
            "Requirement already satisfied: packaging in /usr/local/lib/python3.8/dist-packages (from tensorflow) (23.0)\n",
            "Requirement already satisfied: wrapt>=1.11.0 in /usr/local/lib/python3.8/dist-packages (from tensorflow) (1.15.0)\n",
            "Requirement already satisfied: flatbuffers>=2.0 in /usr/local/lib/python3.8/dist-packages (from tensorflow) (23.1.21)\n",
            "Requirement already satisfied: opt-einsum>=2.3.2 in /usr/local/lib/python3.8/dist-packages (from tensorflow) (3.3.0)\n",
            "Requirement already satisfied: libclang>=13.0.0 in /usr/local/lib/python3.8/dist-packages (from tensorflow) (15.0.6.1)\n",
            "Requirement already satisfied: tensorflow-estimator<2.12,>=2.11.0 in /usr/local/lib/python3.8/dist-packages (from tensorflow) (2.11.0)\n",
            "Requirement already satisfied: h5py>=2.9.0 in /usr/local/lib/python3.8/dist-packages (from tensorflow) (3.1.0)\n",
            "Requirement already satisfied: absl-py>=1.0.0 in /usr/local/lib/python3.8/dist-packages (from tensorflow) (1.4.0)\n",
            "Requirement already satisfied: keras<2.12,>=2.11.0 in /usr/local/lib/python3.8/dist-packages (from tensorflow) (2.11.0)\n",
            "Requirement already satisfied: six>=1.12.0 in /usr/local/lib/python3.8/dist-packages (from tensorflow) (1.15.0)\n",
            "Requirement already satisfied: protobuf<3.20,>=3.9.2 in /usr/local/lib/python3.8/dist-packages (from tensorflow) (3.19.6)\n",
            "Requirement already satisfied: typing-extensions>=3.6.6 in /usr/local/lib/python3.8/dist-packages (from tensorflow) (4.5.0)\n",
            "Requirement already satisfied: tensorflow-io-gcs-filesystem>=0.23.1 in /usr/local/lib/python3.8/dist-packages (from tensorflow) (0.31.0)\n",
            "Requirement already satisfied: gast<=0.4.0,>=0.2.1 in /usr/local/lib/python3.8/dist-packages (from tensorflow) (0.4.0)\n",
            "Requirement already satisfied: google-pasta>=0.1.1 in /usr/local/lib/python3.8/dist-packages (from tensorflow) (0.2.0)\n",
            "Requirement already satisfied: termcolor>=1.1.0 in /usr/local/lib/python3.8/dist-packages (from tensorflow) (2.2.0)\n",
            "Requirement already satisfied: setuptools in /usr/local/lib/python3.8/dist-packages (from tensorflow) (57.4.0)\n",
            "Requirement already satisfied: numpy>=1.20 in /usr/local/lib/python3.8/dist-packages (from tensorflow) (1.22.4)\n",
            "Requirement already satisfied: wheel<1.0,>=0.23.0 in /usr/local/lib/python3.8/dist-packages (from astunparse>=1.6.0->tensorflow) (0.38.4)\n",
            "Requirement already satisfied: markdown>=2.6.8 in /usr/local/lib/python3.8/dist-packages (from tensorboard<2.12,>=2.11->tensorflow) (3.4.1)\n",
            "Requirement already satisfied: tensorboard-data-server<0.7.0,>=0.6.0 in /usr/local/lib/python3.8/dist-packages (from tensorboard<2.12,>=2.11->tensorflow) (0.6.1)\n",
            "Requirement already satisfied: werkzeug>=1.0.1 in /usr/local/lib/python3.8/dist-packages (from tensorboard<2.12,>=2.11->tensorflow) (2.2.3)\n",
            "Requirement already satisfied: tensorboard-plugin-wit>=1.6.0 in /usr/local/lib/python3.8/dist-packages (from tensorboard<2.12,>=2.11->tensorflow) (1.8.1)\n",
            "Requirement already satisfied: google-auth<3,>=1.6.3 in /usr/local/lib/python3.8/dist-packages (from tensorboard<2.12,>=2.11->tensorflow) (2.16.1)\n",
            "Requirement already satisfied: google-auth-oauthlib<0.5,>=0.4.1 in /usr/local/lib/python3.8/dist-packages (from tensorboard<2.12,>=2.11->tensorflow) (0.4.6)\n",
            "Requirement already satisfied: requests<3,>=2.21.0 in /usr/local/lib/python3.8/dist-packages (from tensorboard<2.12,>=2.11->tensorflow) (2.25.1)\n",
            "Requirement already satisfied: pyasn1-modules>=0.2.1 in /usr/local/lib/python3.8/dist-packages (from google-auth<3,>=1.6.3->tensorboard<2.12,>=2.11->tensorflow) (0.2.8)\n",
            "Requirement already satisfied: rsa<5,>=3.1.4 in /usr/local/lib/python3.8/dist-packages (from google-auth<3,>=1.6.3->tensorboard<2.12,>=2.11->tensorflow) (4.9)\n",
            "Requirement already satisfied: cachetools<6.0,>=2.0.0 in /usr/local/lib/python3.8/dist-packages (from google-auth<3,>=1.6.3->tensorboard<2.12,>=2.11->tensorflow) (5.3.0)\n",
            "Requirement already satisfied: requests-oauthlib>=0.7.0 in /usr/local/lib/python3.8/dist-packages (from google-auth-oauthlib<0.5,>=0.4.1->tensorboard<2.12,>=2.11->tensorflow) (1.3.1)\n",
            "Requirement already satisfied: importlib-metadata>=4.4 in /usr/local/lib/python3.8/dist-packages (from markdown>=2.6.8->tensorboard<2.12,>=2.11->tensorflow) (6.0.0)\n",
            "Requirement already satisfied: idna<3,>=2.5 in /usr/local/lib/python3.8/dist-packages (from requests<3,>=2.21.0->tensorboard<2.12,>=2.11->tensorflow) (2.10)\n",
            "Requirement already satisfied: certifi>=2017.4.17 in /usr/local/lib/python3.8/dist-packages (from requests<3,>=2.21.0->tensorboard<2.12,>=2.11->tensorflow) (2022.12.7)\n",
            "Requirement already satisfied: chardet<5,>=3.0.2 in /usr/local/lib/python3.8/dist-packages (from requests<3,>=2.21.0->tensorboard<2.12,>=2.11->tensorflow) (4.0.0)\n",
            "Requirement already satisfied: urllib3<1.27,>=1.21.1 in /usr/local/lib/python3.8/dist-packages (from requests<3,>=2.21.0->tensorboard<2.12,>=2.11->tensorflow) (1.26.14)\n",
            "Requirement already satisfied: MarkupSafe>=2.1.1 in /usr/local/lib/python3.8/dist-packages (from werkzeug>=1.0.1->tensorboard<2.12,>=2.11->tensorflow) (2.1.2)\n",
            "Requirement already satisfied: zipp>=0.5 in /usr/local/lib/python3.8/dist-packages (from importlib-metadata>=4.4->markdown>=2.6.8->tensorboard<2.12,>=2.11->tensorflow) (3.15.0)\n",
            "Requirement already satisfied: pyasn1<0.5.0,>=0.4.6 in /usr/local/lib/python3.8/dist-packages (from pyasn1-modules>=0.2.1->google-auth<3,>=1.6.3->tensorboard<2.12,>=2.11->tensorflow) (0.4.8)\n",
            "Requirement already satisfied: oauthlib>=3.0.0 in /usr/local/lib/python3.8/dist-packages (from requests-oauthlib>=0.7.0->google-auth-oauthlib<0.5,>=0.4.1->tensorboard<2.12,>=2.11->tensorflow) (3.2.2)\n"
          ]
        }
      ]
    },
    {
      "cell_type": "code",
      "metadata": {
        "id": "yuf2rRdyNPI0"
      },
      "source": [
        "import tensorflow as tf\n",
        "import pandas as pd\n",
        "import seaborn as sns  # to plot images and statical version of data\n",
        "import numpy as np\n",
        "import matplotlib.pyplot as plt"
      ],
      "execution_count": null,
      "outputs": []
    },
    {
      "cell_type": "markdown",
      "metadata": {
        "id": "HcQdQ-yi6FO5"
      },
      "source": [
        "## STEP #1: Import *Dataset*"
      ]
    },
    {
      "cell_type": "code",
      "metadata": {
        "id": "diMdgwzU5ISc",
        "colab": {
          "base_uri": "https://localhost:8080/"
        },
        "outputId": "43748269-cae6-4151-f596-db616d7f8ade"
      },
      "source": [
        "from google.colab import drive\n",
        "drive.mount('/content/drive')"
      ],
      "execution_count": null,
      "outputs": [
        {
          "output_type": "stream",
          "name": "stdout",
          "text": [
            "Mounted at /content/drive\n"
          ]
        }
      ]
    },
    {
      "cell_type": "code",
      "metadata": {
        "id": "lzkLeqe652dC"
      },
      "source": [
        "sales_df = pd.read_csv('/content/drive/My Drive/SalesData.csv')"
      ],
      "execution_count": null,
      "outputs": []
    },
    {
      "cell_type": "code",
      "metadata": {
        "id": "dV6AsLPt6eAC",
        "colab": {
          "base_uri": "https://localhost:8080/",
          "height": 206
        },
        "outputId": "ec9cf176-56dc-483f-e368-90f742409331"
      },
      "source": [
        "sales_df.head()"
      ],
      "execution_count": null,
      "outputs": [
        {
          "output_type": "execute_result",
          "data": {
            "text/plain": [
              "   Temperature     Revenue\n",
              "0    24.566884  534.799028\n",
              "1    26.005191  625.190122\n",
              "2    27.790554  660.632289\n",
              "3    20.595335  487.706960\n",
              "4    11.503498  316.240194"
            ],
            "text/html": [
              "\n",
              "  <div id=\"df-d6bea8a0-8999-4a2c-808d-3d46100fa1e9\">\n",
              "    <div class=\"colab-df-container\">\n",
              "      <div>\n",
              "<style scoped>\n",
              "    .dataframe tbody tr th:only-of-type {\n",
              "        vertical-align: middle;\n",
              "    }\n",
              "\n",
              "    .dataframe tbody tr th {\n",
              "        vertical-align: top;\n",
              "    }\n",
              "\n",
              "    .dataframe thead th {\n",
              "        text-align: right;\n",
              "    }\n",
              "</style>\n",
              "<table border=\"1\" class=\"dataframe\">\n",
              "  <thead>\n",
              "    <tr style=\"text-align: right;\">\n",
              "      <th></th>\n",
              "      <th>Temperature</th>\n",
              "      <th>Revenue</th>\n",
              "    </tr>\n",
              "  </thead>\n",
              "  <tbody>\n",
              "    <tr>\n",
              "      <th>0</th>\n",
              "      <td>24.566884</td>\n",
              "      <td>534.799028</td>\n",
              "    </tr>\n",
              "    <tr>\n",
              "      <th>1</th>\n",
              "      <td>26.005191</td>\n",
              "      <td>625.190122</td>\n",
              "    </tr>\n",
              "    <tr>\n",
              "      <th>2</th>\n",
              "      <td>27.790554</td>\n",
              "      <td>660.632289</td>\n",
              "    </tr>\n",
              "    <tr>\n",
              "      <th>3</th>\n",
              "      <td>20.595335</td>\n",
              "      <td>487.706960</td>\n",
              "    </tr>\n",
              "    <tr>\n",
              "      <th>4</th>\n",
              "      <td>11.503498</td>\n",
              "      <td>316.240194</td>\n",
              "    </tr>\n",
              "  </tbody>\n",
              "</table>\n",
              "</div>\n",
              "      <button class=\"colab-df-convert\" onclick=\"convertToInteractive('df-d6bea8a0-8999-4a2c-808d-3d46100fa1e9')\"\n",
              "              title=\"Convert this dataframe to an interactive table.\"\n",
              "              style=\"display:none;\">\n",
              "        \n",
              "  <svg xmlns=\"http://www.w3.org/2000/svg\" height=\"24px\"viewBox=\"0 0 24 24\"\n",
              "       width=\"24px\">\n",
              "    <path d=\"M0 0h24v24H0V0z\" fill=\"none\"/>\n",
              "    <path d=\"M18.56 5.44l.94 2.06.94-2.06 2.06-.94-2.06-.94-.94-2.06-.94 2.06-2.06.94zm-11 1L8.5 8.5l.94-2.06 2.06-.94-2.06-.94L8.5 2.5l-.94 2.06-2.06.94zm10 10l.94 2.06.94-2.06 2.06-.94-2.06-.94-.94-2.06-.94 2.06-2.06.94z\"/><path d=\"M17.41 7.96l-1.37-1.37c-.4-.4-.92-.59-1.43-.59-.52 0-1.04.2-1.43.59L10.3 9.45l-7.72 7.72c-.78.78-.78 2.05 0 2.83L4 21.41c.39.39.9.59 1.41.59.51 0 1.02-.2 1.41-.59l7.78-7.78 2.81-2.81c.8-.78.8-2.07 0-2.86zM5.41 20L4 18.59l7.72-7.72 1.47 1.35L5.41 20z\"/>\n",
              "  </svg>\n",
              "      </button>\n",
              "      \n",
              "  <style>\n",
              "    .colab-df-container {\n",
              "      display:flex;\n",
              "      flex-wrap:wrap;\n",
              "      gap: 12px;\n",
              "    }\n",
              "\n",
              "    .colab-df-convert {\n",
              "      background-color: #E8F0FE;\n",
              "      border: none;\n",
              "      border-radius: 50%;\n",
              "      cursor: pointer;\n",
              "      display: none;\n",
              "      fill: #1967D2;\n",
              "      height: 32px;\n",
              "      padding: 0 0 0 0;\n",
              "      width: 32px;\n",
              "    }\n",
              "\n",
              "    .colab-df-convert:hover {\n",
              "      background-color: #E2EBFA;\n",
              "      box-shadow: 0px 1px 2px rgba(60, 64, 67, 0.3), 0px 1px 3px 1px rgba(60, 64, 67, 0.15);\n",
              "      fill: #174EA6;\n",
              "    }\n",
              "\n",
              "    [theme=dark] .colab-df-convert {\n",
              "      background-color: #3B4455;\n",
              "      fill: #D2E3FC;\n",
              "    }\n",
              "\n",
              "    [theme=dark] .colab-df-convert:hover {\n",
              "      background-color: #434B5C;\n",
              "      box-shadow: 0px 1px 3px 1px rgba(0, 0, 0, 0.15);\n",
              "      filter: drop-shadow(0px 1px 2px rgba(0, 0, 0, 0.3));\n",
              "      fill: #FFFFFF;\n",
              "    }\n",
              "  </style>\n",
              "\n",
              "      <script>\n",
              "        const buttonEl =\n",
              "          document.querySelector('#df-d6bea8a0-8999-4a2c-808d-3d46100fa1e9 button.colab-df-convert');\n",
              "        buttonEl.style.display =\n",
              "          google.colab.kernel.accessAllowed ? 'block' : 'none';\n",
              "\n",
              "        async function convertToInteractive(key) {\n",
              "          const element = document.querySelector('#df-d6bea8a0-8999-4a2c-808d-3d46100fa1e9');\n",
              "          const dataTable =\n",
              "            await google.colab.kernel.invokeFunction('convertToInteractive',\n",
              "                                                     [key], {});\n",
              "          if (!dataTable) return;\n",
              "\n",
              "          const docLinkHtml = 'Like what you see? Visit the ' +\n",
              "            '<a target=\"_blank\" href=https://colab.research.google.com/notebooks/data_table.ipynb>data table notebook</a>'\n",
              "            + ' to learn more about interactive tables.';\n",
              "          element.innerHTML = '';\n",
              "          dataTable['output_type'] = 'display_data';\n",
              "          await google.colab.output.renderOutput(dataTable, element);\n",
              "          const docLink = document.createElement('div');\n",
              "          docLink.innerHTML = docLinkHtml;\n",
              "          element.appendChild(docLink);\n",
              "        }\n",
              "      </script>\n",
              "    </div>\n",
              "  </div>\n",
              "  "
            ]
          },
          "metadata": {},
          "execution_count": 5
        }
      ]
    },
    {
      "cell_type": "code",
      "metadata": {
        "id": "-V1qGsm56rnI",
        "colab": {
          "base_uri": "https://localhost:8080/",
          "height": 206
        },
        "outputId": "fbf2d221-c5f0-4e7a-ec74-1667d0e0b7d2"
      },
      "source": [
        "sales_df.tail()"
      ],
      "execution_count": null,
      "outputs": [
        {
          "output_type": "execute_result",
          "data": {
            "text/plain": [
              "     Temperature     Revenue\n",
              "495    22.274899  524.746364\n",
              "496    32.893092  755.818399\n",
              "497    12.588157  306.090719\n",
              "498    22.362402  566.217304\n",
              "499    28.957736  655.660388"
            ],
            "text/html": [
              "\n",
              "  <div id=\"df-b43aba11-1a77-4a1d-af0a-990bbe2f4e44\">\n",
              "    <div class=\"colab-df-container\">\n",
              "      <div>\n",
              "<style scoped>\n",
              "    .dataframe tbody tr th:only-of-type {\n",
              "        vertical-align: middle;\n",
              "    }\n",
              "\n",
              "    .dataframe tbody tr th {\n",
              "        vertical-align: top;\n",
              "    }\n",
              "\n",
              "    .dataframe thead th {\n",
              "        text-align: right;\n",
              "    }\n",
              "</style>\n",
              "<table border=\"1\" class=\"dataframe\">\n",
              "  <thead>\n",
              "    <tr style=\"text-align: right;\">\n",
              "      <th></th>\n",
              "      <th>Temperature</th>\n",
              "      <th>Revenue</th>\n",
              "    </tr>\n",
              "  </thead>\n",
              "  <tbody>\n",
              "    <tr>\n",
              "      <th>495</th>\n",
              "      <td>22.274899</td>\n",
              "      <td>524.746364</td>\n",
              "    </tr>\n",
              "    <tr>\n",
              "      <th>496</th>\n",
              "      <td>32.893092</td>\n",
              "      <td>755.818399</td>\n",
              "    </tr>\n",
              "    <tr>\n",
              "      <th>497</th>\n",
              "      <td>12.588157</td>\n",
              "      <td>306.090719</td>\n",
              "    </tr>\n",
              "    <tr>\n",
              "      <th>498</th>\n",
              "      <td>22.362402</td>\n",
              "      <td>566.217304</td>\n",
              "    </tr>\n",
              "    <tr>\n",
              "      <th>499</th>\n",
              "      <td>28.957736</td>\n",
              "      <td>655.660388</td>\n",
              "    </tr>\n",
              "  </tbody>\n",
              "</table>\n",
              "</div>\n",
              "      <button class=\"colab-df-convert\" onclick=\"convertToInteractive('df-b43aba11-1a77-4a1d-af0a-990bbe2f4e44')\"\n",
              "              title=\"Convert this dataframe to an interactive table.\"\n",
              "              style=\"display:none;\">\n",
              "        \n",
              "  <svg xmlns=\"http://www.w3.org/2000/svg\" height=\"24px\"viewBox=\"0 0 24 24\"\n",
              "       width=\"24px\">\n",
              "    <path d=\"M0 0h24v24H0V0z\" fill=\"none\"/>\n",
              "    <path d=\"M18.56 5.44l.94 2.06.94-2.06 2.06-.94-2.06-.94-.94-2.06-.94 2.06-2.06.94zm-11 1L8.5 8.5l.94-2.06 2.06-.94-2.06-.94L8.5 2.5l-.94 2.06-2.06.94zm10 10l.94 2.06.94-2.06 2.06-.94-2.06-.94-.94-2.06-.94 2.06-2.06.94z\"/><path d=\"M17.41 7.96l-1.37-1.37c-.4-.4-.92-.59-1.43-.59-.52 0-1.04.2-1.43.59L10.3 9.45l-7.72 7.72c-.78.78-.78 2.05 0 2.83L4 21.41c.39.39.9.59 1.41.59.51 0 1.02-.2 1.41-.59l7.78-7.78 2.81-2.81c.8-.78.8-2.07 0-2.86zM5.41 20L4 18.59l7.72-7.72 1.47 1.35L5.41 20z\"/>\n",
              "  </svg>\n",
              "      </button>\n",
              "      \n",
              "  <style>\n",
              "    .colab-df-container {\n",
              "      display:flex;\n",
              "      flex-wrap:wrap;\n",
              "      gap: 12px;\n",
              "    }\n",
              "\n",
              "    .colab-df-convert {\n",
              "      background-color: #E8F0FE;\n",
              "      border: none;\n",
              "      border-radius: 50%;\n",
              "      cursor: pointer;\n",
              "      display: none;\n",
              "      fill: #1967D2;\n",
              "      height: 32px;\n",
              "      padding: 0 0 0 0;\n",
              "      width: 32px;\n",
              "    }\n",
              "\n",
              "    .colab-df-convert:hover {\n",
              "      background-color: #E2EBFA;\n",
              "      box-shadow: 0px 1px 2px rgba(60, 64, 67, 0.3), 0px 1px 3px 1px rgba(60, 64, 67, 0.15);\n",
              "      fill: #174EA6;\n",
              "    }\n",
              "\n",
              "    [theme=dark] .colab-df-convert {\n",
              "      background-color: #3B4455;\n",
              "      fill: #D2E3FC;\n",
              "    }\n",
              "\n",
              "    [theme=dark] .colab-df-convert:hover {\n",
              "      background-color: #434B5C;\n",
              "      box-shadow: 0px 1px 3px 1px rgba(0, 0, 0, 0.15);\n",
              "      filter: drop-shadow(0px 1px 2px rgba(0, 0, 0, 0.3));\n",
              "      fill: #FFFFFF;\n",
              "    }\n",
              "  </style>\n",
              "\n",
              "      <script>\n",
              "        const buttonEl =\n",
              "          document.querySelector('#df-b43aba11-1a77-4a1d-af0a-990bbe2f4e44 button.colab-df-convert');\n",
              "        buttonEl.style.display =\n",
              "          google.colab.kernel.accessAllowed ? 'block' : 'none';\n",
              "\n",
              "        async function convertToInteractive(key) {\n",
              "          const element = document.querySelector('#df-b43aba11-1a77-4a1d-af0a-990bbe2f4e44');\n",
              "          const dataTable =\n",
              "            await google.colab.kernel.invokeFunction('convertToInteractive',\n",
              "                                                     [key], {});\n",
              "          if (!dataTable) return;\n",
              "\n",
              "          const docLinkHtml = 'Like what you see? Visit the ' +\n",
              "            '<a target=\"_blank\" href=https://colab.research.google.com/notebooks/data_table.ipynb>data table notebook</a>'\n",
              "            + ' to learn more about interactive tables.';\n",
              "          element.innerHTML = '';\n",
              "          dataTable['output_type'] = 'display_data';\n",
              "          await google.colab.output.renderOutput(dataTable, element);\n",
              "          const docLink = document.createElement('div');\n",
              "          docLink.innerHTML = docLinkHtml;\n",
              "          element.appendChild(docLink);\n",
              "        }\n",
              "      </script>\n",
              "    </div>\n",
              "  </div>\n",
              "  "
            ]
          },
          "metadata": {},
          "execution_count": 6
        }
      ]
    },
    {
      "cell_type": "code",
      "metadata": {
        "id": "ZjNDn9lI63gk",
        "colab": {
          "base_uri": "https://localhost:8080/",
          "height": 300
        },
        "outputId": "84168ae1-f695-44a1-dd04-2c935d51cbe5"
      },
      "source": [
        "sales_df.describe()"
      ],
      "execution_count": null,
      "outputs": [
        {
          "output_type": "execute_result",
          "data": {
            "text/plain": [
              "       Temperature      Revenue\n",
              "count   500.000000   500.000000\n",
              "mean     22.232225   521.570777\n",
              "std       8.096388   175.404751\n",
              "min       0.000000    10.000000\n",
              "25%      17.122258   405.558681\n",
              "50%      22.392791   529.368565\n",
              "75%      27.740674   642.257922\n",
              "max      45.000000  1000.000000"
            ],
            "text/html": [
              "\n",
              "  <div id=\"df-809d4c1c-e48c-401d-9f03-a021e66ba3cd\">\n",
              "    <div class=\"colab-df-container\">\n",
              "      <div>\n",
              "<style scoped>\n",
              "    .dataframe tbody tr th:only-of-type {\n",
              "        vertical-align: middle;\n",
              "    }\n",
              "\n",
              "    .dataframe tbody tr th {\n",
              "        vertical-align: top;\n",
              "    }\n",
              "\n",
              "    .dataframe thead th {\n",
              "        text-align: right;\n",
              "    }\n",
              "</style>\n",
              "<table border=\"1\" class=\"dataframe\">\n",
              "  <thead>\n",
              "    <tr style=\"text-align: right;\">\n",
              "      <th></th>\n",
              "      <th>Temperature</th>\n",
              "      <th>Revenue</th>\n",
              "    </tr>\n",
              "  </thead>\n",
              "  <tbody>\n",
              "    <tr>\n",
              "      <th>count</th>\n",
              "      <td>500.000000</td>\n",
              "      <td>500.000000</td>\n",
              "    </tr>\n",
              "    <tr>\n",
              "      <th>mean</th>\n",
              "      <td>22.232225</td>\n",
              "      <td>521.570777</td>\n",
              "    </tr>\n",
              "    <tr>\n",
              "      <th>std</th>\n",
              "      <td>8.096388</td>\n",
              "      <td>175.404751</td>\n",
              "    </tr>\n",
              "    <tr>\n",
              "      <th>min</th>\n",
              "      <td>0.000000</td>\n",
              "      <td>10.000000</td>\n",
              "    </tr>\n",
              "    <tr>\n",
              "      <th>25%</th>\n",
              "      <td>17.122258</td>\n",
              "      <td>405.558681</td>\n",
              "    </tr>\n",
              "    <tr>\n",
              "      <th>50%</th>\n",
              "      <td>22.392791</td>\n",
              "      <td>529.368565</td>\n",
              "    </tr>\n",
              "    <tr>\n",
              "      <th>75%</th>\n",
              "      <td>27.740674</td>\n",
              "      <td>642.257922</td>\n",
              "    </tr>\n",
              "    <tr>\n",
              "      <th>max</th>\n",
              "      <td>45.000000</td>\n",
              "      <td>1000.000000</td>\n",
              "    </tr>\n",
              "  </tbody>\n",
              "</table>\n",
              "</div>\n",
              "      <button class=\"colab-df-convert\" onclick=\"convertToInteractive('df-809d4c1c-e48c-401d-9f03-a021e66ba3cd')\"\n",
              "              title=\"Convert this dataframe to an interactive table.\"\n",
              "              style=\"display:none;\">\n",
              "        \n",
              "  <svg xmlns=\"http://www.w3.org/2000/svg\" height=\"24px\"viewBox=\"0 0 24 24\"\n",
              "       width=\"24px\">\n",
              "    <path d=\"M0 0h24v24H0V0z\" fill=\"none\"/>\n",
              "    <path d=\"M18.56 5.44l.94 2.06.94-2.06 2.06-.94-2.06-.94-.94-2.06-.94 2.06-2.06.94zm-11 1L8.5 8.5l.94-2.06 2.06-.94-2.06-.94L8.5 2.5l-.94 2.06-2.06.94zm10 10l.94 2.06.94-2.06 2.06-.94-2.06-.94-.94-2.06-.94 2.06-2.06.94z\"/><path d=\"M17.41 7.96l-1.37-1.37c-.4-.4-.92-.59-1.43-.59-.52 0-1.04.2-1.43.59L10.3 9.45l-7.72 7.72c-.78.78-.78 2.05 0 2.83L4 21.41c.39.39.9.59 1.41.59.51 0 1.02-.2 1.41-.59l7.78-7.78 2.81-2.81c.8-.78.8-2.07 0-2.86zM5.41 20L4 18.59l7.72-7.72 1.47 1.35L5.41 20z\"/>\n",
              "  </svg>\n",
              "      </button>\n",
              "      \n",
              "  <style>\n",
              "    .colab-df-container {\n",
              "      display:flex;\n",
              "      flex-wrap:wrap;\n",
              "      gap: 12px;\n",
              "    }\n",
              "\n",
              "    .colab-df-convert {\n",
              "      background-color: #E8F0FE;\n",
              "      border: none;\n",
              "      border-radius: 50%;\n",
              "      cursor: pointer;\n",
              "      display: none;\n",
              "      fill: #1967D2;\n",
              "      height: 32px;\n",
              "      padding: 0 0 0 0;\n",
              "      width: 32px;\n",
              "    }\n",
              "\n",
              "    .colab-df-convert:hover {\n",
              "      background-color: #E2EBFA;\n",
              "      box-shadow: 0px 1px 2px rgba(60, 64, 67, 0.3), 0px 1px 3px 1px rgba(60, 64, 67, 0.15);\n",
              "      fill: #174EA6;\n",
              "    }\n",
              "\n",
              "    [theme=dark] .colab-df-convert {\n",
              "      background-color: #3B4455;\n",
              "      fill: #D2E3FC;\n",
              "    }\n",
              "\n",
              "    [theme=dark] .colab-df-convert:hover {\n",
              "      background-color: #434B5C;\n",
              "      box-shadow: 0px 1px 3px 1px rgba(0, 0, 0, 0.15);\n",
              "      filter: drop-shadow(0px 1px 2px rgba(0, 0, 0, 0.3));\n",
              "      fill: #FFFFFF;\n",
              "    }\n",
              "  </style>\n",
              "\n",
              "      <script>\n",
              "        const buttonEl =\n",
              "          document.querySelector('#df-809d4c1c-e48c-401d-9f03-a021e66ba3cd button.colab-df-convert');\n",
              "        buttonEl.style.display =\n",
              "          google.colab.kernel.accessAllowed ? 'block' : 'none';\n",
              "\n",
              "        async function convertToInteractive(key) {\n",
              "          const element = document.querySelector('#df-809d4c1c-e48c-401d-9f03-a021e66ba3cd');\n",
              "          const dataTable =\n",
              "            await google.colab.kernel.invokeFunction('convertToInteractive',\n",
              "                                                     [key], {});\n",
              "          if (!dataTable) return;\n",
              "\n",
              "          const docLinkHtml = 'Like what you see? Visit the ' +\n",
              "            '<a target=\"_blank\" href=https://colab.research.google.com/notebooks/data_table.ipynb>data table notebook</a>'\n",
              "            + ' to learn more about interactive tables.';\n",
              "          element.innerHTML = '';\n",
              "          dataTable['output_type'] = 'display_data';\n",
              "          await google.colab.output.renderOutput(dataTable, element);\n",
              "          const docLink = document.createElement('div');\n",
              "          docLink.innerHTML = docLinkHtml;\n",
              "          element.appendChild(docLink);\n",
              "        }\n",
              "      </script>\n",
              "    </div>\n",
              "  </div>\n",
              "  "
            ]
          },
          "metadata": {},
          "execution_count": 7
        }
      ]
    },
    {
      "cell_type": "code",
      "metadata": {
        "id": "CdlE53PJ65--",
        "colab": {
          "base_uri": "https://localhost:8080/"
        },
        "outputId": "626ea33e-cbb5-4027-a544-7d13741602d7"
      },
      "source": [
        "sales_df.info()"
      ],
      "execution_count": null,
      "outputs": [
        {
          "output_type": "stream",
          "name": "stdout",
          "text": [
            "<class 'pandas.core.frame.DataFrame'>\n",
            "RangeIndex: 500 entries, 0 to 499\n",
            "Data columns (total 2 columns):\n",
            " #   Column       Non-Null Count  Dtype  \n",
            "---  ------       --------------  -----  \n",
            " 0   Temperature  500 non-null    float64\n",
            " 1   Revenue      500 non-null    float64\n",
            "dtypes: float64(2)\n",
            "memory usage: 7.9 KB\n"
          ]
        }
      ]
    },
    {
      "cell_type": "markdown",
      "metadata": {
        "id": "CM3ojHIu7vh1"
      },
      "source": [
        "## STEP #2: Visualization of Dataset"
      ]
    },
    {
      "cell_type": "code",
      "metadata": {
        "id": "xTS2o-Op6-ba",
        "colab": {
          "base_uri": "https://localhost:8080/",
          "height": 351
        },
        "outputId": "b75b005e-9b3d-4d57-db17-d226f68dc768"
      },
      "source": [
        "sns.scatterplot(sales_df['Temperature'], sales_df['Revenue'])"
      ],
      "execution_count": null,
      "outputs": [
        {
          "output_type": "stream",
          "name": "stderr",
          "text": [
            "/usr/local/lib/python3.8/dist-packages/seaborn/_decorators.py:36: FutureWarning: Pass the following variables as keyword args: x, y. From version 0.12, the only valid positional argument will be `data`, and passing other arguments without an explicit keyword will result in an error or misinterpretation.\n",
            "  warnings.warn(\n"
          ]
        },
        {
          "output_type": "execute_result",
          "data": {
            "text/plain": [
              "<AxesSubplot:xlabel='Temperature', ylabel='Revenue'>"
            ]
          },
          "metadata": {},
          "execution_count": 9
        },
        {
          "output_type": "display_data",
          "data": {
            "text/plain": [
              "<Figure size 432x288 with 1 Axes>"
            ],
            "image/png": "[encoded data removed]"
          },
          "metadata": {
            "needs_background": "light"
          }
        }
      ]
    },
    {
      "cell_type": "markdown",
      "metadata": {
        "id": "_44UgAUy7Uqo"
      },
      "source": [
        "## STEP #3: Creating Training & Testing Dataset"
      ]
    },
    {
      "cell_type": "code",
      "metadata": {
        "id": "cU-1HM5m7KFL"
      },
      "source": [
        "X_train = sales_df['Temperature']\n",
        "y_train = sales_df['Revenue']"
      ],
      "execution_count": null,
      "outputs": []
    },
    {
      "cell_type": "markdown",
      "metadata": {
        "id": "O_akqGIK8Dzb"
      },
      "source": [
        "## STEP #4: Build & Train the Model"
      ]
    },
    {
      "cell_type": "code",
      "metadata": {
        "id": "6ZSiHN0v7iuj",
        "colab": {
          "base_uri": "https://localhost:8080/"
        },
        "outputId": "09713afd-7844-4bf9-a24e-a7e554f5d321"
      },
      "source": [
        "X_train.shape"
      ],
      "execution_count": null,
      "outputs": [
        {
          "output_type": "execute_result",
          "data": {
            "text/plain": [
              "(500,)"
            ]
          },
          "metadata": {},
          "execution_count": 11
        }
      ]
    },
    {
      "cell_type": "code",
      "metadata": {
        "id": "dvsZo8kR8ILK",
        "colab": {
          "base_uri": "https://localhost:8080/"
        },
        "outputId": "4cb28bfa-4831-4275-ea85-d09973945db6"
      },
      "source": [
        "y_train.shape"
      ],
      "execution_count": null,
      "outputs": [
        {
          "output_type": "execute_result",
          "data": {
            "text/plain": [
              "(500,)"
            ]
          },
          "metadata": {},
          "execution_count": 12
        }
      ]
    },
    {
      "cell_type": "code",
      "metadata": {
        "id": "me7wCFk78Kwk"
      },
      "source": [
        "model = tf.keras.Sequential()\n",
        "model.add(tf.keras.layers.Dense(units= 1, input_shape = [1]))\n",
        "#model.add(tf.keras.layers.Dense(units=1))"
      ],
      "execution_count": null,
      "outputs": []
    },
    {
      "cell_type": "code",
      "metadata": {
        "id": "twNeAgtQ8Pc2",
        "colab": {
          "base_uri": "https://localhost:8080/"
        },
        "outputId": "815fdc26-e298-448c-b728-040edc6f76d7"
      },
      "source": [
        "model.summary()"
      ],
      "execution_count": null,
      "outputs": [
        {
          "output_type": "stream",
          "name": "stdout",
          "text": [
            "Model: \"sequential\"\n",
            "_________________________________________________________________\n",
            " Layer (type)                Output Shape              Param #   \n",
            "=================================================================\n",
            " dense (Dense)               (None, 1)                 2         \n",
            "                                                                 \n",
            "=================================================================\n",
            "Total params: 2\n",
            "Trainable params: 2\n",
            "Non-trainable params: 0\n",
            "_________________________________________________________________\n"
          ]
        }
      ]
    },
    {
      "cell_type": "code",
      "metadata": {
        "id": "6caf0jHN8WGT"
      },
      "source": [
        "model.compile(optimizer= tf.keras.optimizers.Adam(0.1), loss = 'mean_squared_error')"
      ],
      "execution_count": null,
      "outputs": []
    },
    {
      "cell_type": "code",
      "metadata": {
        "id": "9ZupyzWP8fvB",
        "colab": {
          "base_uri": "https://localhost:8080/"
        },
        "outputId": "a2667057-dad0-40fb-ed47-8e02a83d4436"
      },
      "source": [
        "epochs_hist = model.fit(X_train, y_train, epochs=100, validation_split = 0.2)"
      ],
      "execution_count": null,
      "outputs": [
        {
          "output_type": "stream",
          "name": "stdout",
          "text": [
            "Epoch 1/100\n",
            "13/13 [==============================] - 4s 27ms/step - loss: 302906.3438 - val_loss: 325807.1875\n",
            "Epoch 2/100\n",
            "13/13 [==============================] - 0s 8ms/step - loss: 269719.2188 - val_loss: 289159.4688\n",
            "Epoch 3/100\n",
            "13/13 [==============================] - 0s 7ms/step - loss: 238681.7344 - val_loss: 255728.2031\n",
            "Epoch 4/100\n",
            "13/13 [==============================] - 0s 8ms/step - loss: 210599.9219 - val_loss: 225085.0156\n",
            "Epoch 5/100\n",
            "13/13 [==============================] - 0s 8ms/step - loss: 184763.9375 - val_loss: 197343.2812\n",
            "Epoch 6/100\n",
            "13/13 [==============================] - 0s 8ms/step - loss: 161740.6562 - val_loss: 172013.2188\n",
            "Epoch 7/100\n",
            "13/13 [==============================] - 0s 8ms/step - loss: 140490.6875 - val_loss: 149885.8438\n",
            "Epoch 8/100\n",
            "13/13 [==============================] - 0s 8ms/step - loss: 122047.4297 - val_loss: 129825.2266\n",
            "Epoch 9/100\n",
            "13/13 [==============================] - 0s 10ms/step - loss: 105588.8672 - val_loss: 111863.0781\n",
            "Epoch 10/100\n",
            "13/13 [==============================] - 0s 8ms/step - loss: 90540.2578 - val_loss: 96425.7266\n",
            "Epoch 11/100\n",
            "13/13 [==============================] - 0s 9ms/step - loss: 77601.7031 - val_loss: 82518.7266\n",
            "Epoch 12/100\n",
            "13/13 [==============================] - 0s 8ms/step - loss: 66279.6172 - val_loss: 70038.8125\n",
            "Epoch 13/100\n",
            "13/13 [==============================] - 0s 7ms/step - loss: 56037.7852 - val_loss: 59315.0469\n",
            "Epoch 14/100\n",
            "13/13 [==============================] - 0s 7ms/step - loss: 47197.4648 - val_loss: 50113.7852\n",
            "Epoch 15/100\n",
            "13/13 [==============================] - 0s 8ms/step - loss: 39705.5195 - val_loss: 42041.6797\n",
            "Epoch 16/100\n",
            "13/13 [==============================] - 0s 7ms/step - loss: 33187.5352 - val_loss: 35113.4961\n",
            "Epoch 17/100\n",
            "13/13 [==============================] - 0s 8ms/step - loss: 27633.9551 - val_loss: 29230.2676\n",
            "Epoch 18/100\n",
            "13/13 [==============================] - 0s 8ms/step - loss: 22849.7324 - val_loss: 24306.4121\n",
            "Epoch 19/100\n",
            "13/13 [==============================] - 0s 8ms/step - loss: 18872.6992 - val_loss: 20118.9551\n",
            "Epoch 20/100\n",
            "13/13 [==============================] - 0s 8ms/step - loss: 15512.8154 - val_loss: 16600.8242\n",
            "Epoch 21/100\n",
            "13/13 [==============================] - 0s 8ms/step - loss: 12702.3760 - val_loss: 13637.4346\n",
            "Epoch 22/100\n",
            "13/13 [==============================] - 0s 8ms/step - loss: 10382.0879 - val_loss: 11160.8125\n",
            "Epoch 23/100\n",
            "13/13 [==============================] - 0s 8ms/step - loss: 8443.5576 - val_loss: 9126.4326\n",
            "Epoch 24/100\n",
            "13/13 [==============================] - 0s 8ms/step - loss: 6831.4121 - val_loss: 7495.7402\n",
            "Epoch 25/100\n",
            "13/13 [==============================] - 0s 8ms/step - loss: 5556.8779 - val_loss: 6140.0112\n",
            "Epoch 26/100\n",
            "13/13 [==============================] - 0s 8ms/step - loss: 4502.2153 - val_loss: 5050.6626\n",
            "Epoch 27/100\n",
            "13/13 [==============================] - 0s 7ms/step - loss: 3676.3835 - val_loss: 4143.2441\n",
            "Epoch 28/100\n",
            "13/13 [==============================] - 0s 9ms/step - loss: 2987.0793 - val_loss: 3439.5811\n",
            "Epoch 29/100\n",
            "13/13 [==============================] - 0s 8ms/step - loss: 2457.5076 - val_loss: 2873.5757\n",
            "Epoch 30/100\n",
            "13/13 [==============================] - 0s 6ms/step - loss: 2039.6687 - val_loss: 2422.9507\n",
            "Epoch 31/100\n",
            "13/13 [==============================] - 0s 5ms/step - loss: 1706.2247 - val_loss: 2073.7754\n",
            "Epoch 32/100\n",
            "13/13 [==============================] - 0s 6ms/step - loss: 1449.7439 - val_loss: 1799.7095\n",
            "Epoch 33/100\n",
            "13/13 [==============================] - 0s 5ms/step - loss: 1249.6793 - val_loss: 1586.5833\n",
            "Epoch 34/100\n",
            "13/13 [==============================] - 0s 6ms/step - loss: 1103.1033 - val_loss: 1414.3374\n",
            "Epoch 35/100\n",
            "13/13 [==============================] - 0s 5ms/step - loss: 980.9906 - val_loss: 1285.9178\n",
            "Epoch 36/100\n",
            "13/13 [==============================] - 0s 5ms/step - loss: 892.2435 - val_loss: 1185.2467\n",
            "Epoch 37/100\n",
            "13/13 [==============================] - 0s 5ms/step - loss: 825.4098 - val_loss: 1106.7548\n",
            "Epoch 38/100\n",
            "13/13 [==============================] - 0s 6ms/step - loss: 775.8250 - val_loss: 1044.7009\n",
            "Epoch 39/100\n",
            "13/13 [==============================] - 0s 5ms/step - loss: 735.8044 - val_loss: 1000.6656\n",
            "Epoch 40/100\n",
            "13/13 [==============================] - 0s 7ms/step - loss: 707.6570 - val_loss: 965.1312\n",
            "Epoch 41/100\n",
            "13/13 [==============================] - 0s 6ms/step - loss: 687.3229 - val_loss: 936.7731\n",
            "Epoch 42/100\n",
            "13/13 [==============================] - 0s 6ms/step - loss: 672.6367 - val_loss: 914.8998\n",
            "Epoch 43/100\n",
            "13/13 [==============================] - 0s 5ms/step - loss: 660.6769 - val_loss: 899.8861\n",
            "Epoch 44/100\n",
            "13/13 [==============================] - 0s 6ms/step - loss: 653.3331 - val_loss: 887.0011\n",
            "Epoch 45/100\n",
            "13/13 [==============================] - 0s 5ms/step - loss: 647.3455 - val_loss: 878.4728\n",
            "Epoch 46/100\n",
            "13/13 [==============================] - 0s 6ms/step - loss: 643.3183 - val_loss: 872.5400\n",
            "Epoch 47/100\n",
            "13/13 [==============================] - 0s 5ms/step - loss: 640.3604 - val_loss: 867.5884\n",
            "Epoch 48/100\n",
            "13/13 [==============================] - 0s 5ms/step - loss: 638.4537 - val_loss: 861.8155\n",
            "Epoch 49/100\n",
            "13/13 [==============================] - 0s 5ms/step - loss: 636.6654 - val_loss: 857.8934\n",
            "Epoch 50/100\n",
            "13/13 [==============================] - 0s 5ms/step - loss: 635.4928 - val_loss: 854.9597\n",
            "Epoch 51/100\n",
            "13/13 [==============================] - 0s 6ms/step - loss: 634.5060 - val_loss: 853.1818\n",
            "Epoch 52/100\n",
            "13/13 [==============================] - 0s 5ms/step - loss: 634.1035 - val_loss: 851.1870\n",
            "Epoch 53/100\n",
            "13/13 [==============================] - 0s 6ms/step - loss: 633.8420 - val_loss: 849.5165\n",
            "Epoch 54/100\n",
            "13/13 [==============================] - 0s 7ms/step - loss: 633.2488 - val_loss: 848.6746\n",
            "Epoch 55/100\n",
            "13/13 [==============================] - 0s 5ms/step - loss: 632.9396 - val_loss: 847.9126\n",
            "Epoch 56/100\n",
            "13/13 [==============================] - 0s 5ms/step - loss: 632.9354 - val_loss: 847.7280\n",
            "Epoch 57/100\n",
            "13/13 [==============================] - 0s 6ms/step - loss: 632.6008 - val_loss: 846.8326\n",
            "Epoch 58/100\n",
            "13/13 [==============================] - 0s 5ms/step - loss: 632.4238 - val_loss: 846.4598\n",
            "Epoch 59/100\n",
            "13/13 [==============================] - 0s 7ms/step - loss: 632.2796 - val_loss: 845.8364\n",
            "Epoch 60/100\n",
            "13/13 [==============================] - 0s 5ms/step - loss: 632.1186 - val_loss: 844.9295\n",
            "Epoch 61/100\n",
            "13/13 [==============================] - 0s 6ms/step - loss: 631.9903 - val_loss: 844.2875\n",
            "Epoch 62/100\n",
            "13/13 [==============================] - 0s 6ms/step - loss: 631.8375 - val_loss: 844.3743\n",
            "Epoch 63/100\n",
            "13/13 [==============================] - 0s 5ms/step - loss: 632.0807 - val_loss: 843.7234\n",
            "Epoch 64/100\n",
            "13/13 [==============================] - 0s 5ms/step - loss: 631.7754 - val_loss: 844.5999\n",
            "Epoch 65/100\n",
            "13/13 [==============================] - 0s 6ms/step - loss: 631.5404 - val_loss: 844.7390\n",
            "Epoch 66/100\n",
            "13/13 [==============================] - 0s 5ms/step - loss: 631.4369 - val_loss: 844.2645\n",
            "Epoch 67/100\n",
            "13/13 [==============================] - 0s 5ms/step - loss: 631.3004 - val_loss: 844.6722\n",
            "Epoch 68/100\n",
            "13/13 [==============================] - 0s 6ms/step - loss: 631.2152 - val_loss: 844.2988\n",
            "Epoch 69/100\n",
            "13/13 [==============================] - 0s 6ms/step - loss: 631.0951 - val_loss: 844.4325\n",
            "Epoch 70/100\n",
            "13/13 [==============================] - 0s 5ms/step - loss: 631.3544 - val_loss: 843.1451\n",
            "Epoch 71/100\n",
            "13/13 [==============================] - 0s 5ms/step - loss: 630.7545 - val_loss: 843.4084\n",
            "Epoch 72/100\n",
            "13/13 [==============================] - 0s 6ms/step - loss: 630.7092 - val_loss: 843.8226\n",
            "Epoch 73/100\n",
            "13/13 [==============================] - 0s 5ms/step - loss: 630.5708 - val_loss: 843.6092\n",
            "Epoch 74/100\n",
            "13/13 [==============================] - 0s 6ms/step - loss: 630.4982 - val_loss: 843.0977\n",
            "Epoch 75/100\n",
            "13/13 [==============================] - 0s 5ms/step - loss: 630.3861 - val_loss: 843.5076\n",
            "Epoch 76/100\n",
            "13/13 [==============================] - 0s 6ms/step - loss: 630.2233 - val_loss: 842.9199\n",
            "Epoch 77/100\n",
            "13/13 [==============================] - 0s 6ms/step - loss: 630.0777 - val_loss: 842.6506\n",
            "Epoch 78/100\n",
            "13/13 [==============================] - 0s 6ms/step - loss: 629.9889 - val_loss: 842.5698\n",
            "Epoch 79/100\n",
            "13/13 [==============================] - 0s 6ms/step - loss: 630.0594 - val_loss: 841.7685\n",
            "Epoch 80/100\n",
            "13/13 [==============================] - 0s 6ms/step - loss: 629.7916 - val_loss: 842.6824\n",
            "Epoch 81/100\n",
            "13/13 [==============================] - 0s 5ms/step - loss: 629.7932 - val_loss: 842.4168\n",
            "Epoch 82/100\n",
            "13/13 [==============================] - 0s 6ms/step - loss: 629.3610 - val_loss: 843.2938\n",
            "Epoch 83/100\n",
            "13/13 [==============================] - 0s 5ms/step - loss: 629.3037 - val_loss: 843.6486\n",
            "Epoch 84/100\n",
            "13/13 [==============================] - 0s 5ms/step - loss: 629.2524 - val_loss: 843.7598\n",
            "Epoch 85/100\n",
            "13/13 [==============================] - 0s 5ms/step - loss: 629.0876 - val_loss: 843.3151\n",
            "Epoch 86/100\n",
            "13/13 [==============================] - 0s 5ms/step - loss: 628.9243 - val_loss: 843.2512\n",
            "Epoch 87/100\n",
            "13/13 [==============================] - 0s 6ms/step - loss: 628.8247 - val_loss: 842.8656\n",
            "Epoch 88/100\n",
            "13/13 [==============================] - 0s 5ms/step - loss: 628.8823 - val_loss: 842.2758\n",
            "Epoch 89/100\n",
            "13/13 [==============================] - 0s 6ms/step - loss: 628.6152 - val_loss: 842.3146\n",
            "Epoch 90/100\n",
            "13/13 [==============================] - 0s 5ms/step - loss: 628.3265 - val_loss: 841.5787\n",
            "Epoch 91/100\n",
            "13/13 [==============================] - 0s 6ms/step - loss: 628.2413 - val_loss: 841.2084\n",
            "Epoch 92/100\n",
            "13/13 [==============================] - 0s 6ms/step - loss: 628.2103 - val_loss: 840.7739\n",
            "Epoch 93/100\n",
            "13/13 [==============================] - 0s 6ms/step - loss: 628.0120 - val_loss: 840.9210\n",
            "Epoch 94/100\n",
            "13/13 [==============================] - 0s 5ms/step - loss: 627.8466 - val_loss: 840.9051\n",
            "Epoch 95/100\n",
            "13/13 [==============================] - 0s 5ms/step - loss: 627.7572 - val_loss: 840.6403\n",
            "Epoch 96/100\n",
            "13/13 [==============================] - 0s 5ms/step - loss: 627.5822 - val_loss: 840.4827\n",
            "Epoch 97/100\n",
            "13/13 [==============================] - 0s 6ms/step - loss: 627.4743 - val_loss: 840.2020\n",
            "Epoch 98/100\n",
            "13/13 [==============================] - 0s 5ms/step - loss: 627.4762 - val_loss: 840.9962\n",
            "Epoch 99/100\n",
            "13/13 [==============================] - 0s 6ms/step - loss: 627.1575 - val_loss: 840.1387\n",
            "Epoch 100/100\n",
            "13/13 [==============================] - 0s 6ms/step - loss: 626.9854 - val_loss: 840.1818\n"
          ]
        }
      ]
    },
    {
      "cell_type": "markdown",
      "metadata": {
        "id": "fx5yTuzZ8nfl"
      },
      "source": [
        "## STEP #5: Evaluating the Model"
      ]
    },
    {
      "cell_type": "code",
      "metadata": {
        "id": "3ie5z3qi8oHS",
        "colab": {
          "base_uri": "https://localhost:8080/"
        },
        "outputId": "d2dc35c5-fb46-4269-8c65-7e98d713e63e"
      },
      "source": [
        "epochs_hist.history.keys()"
      ],
      "execution_count": null,
      "outputs": [
        {
          "output_type": "execute_result",
          "data": {
            "text/plain": [
              "dict_keys(['loss', 'val_loss'])"
            ]
          },
          "metadata": {},
          "execution_count": 17
        }
      ]
    },
    {
      "cell_type": "code",
      "metadata": {
        "id": "UWhmNgJ68rHg",
        "colab": {
          "base_uri": "https://localhost:8080/",
          "height": 295
        },
        "outputId": "c45e8a41-dab4-4202-a086-897f4a8ffd35"
      },
      "source": [
        "plt.plot(epochs_hist.history['loss'], color='blue')\n",
        "plt.title('Model loss Progress during training')\n",
        "plt.xlabel('Epochs')\n",
        "plt.ylabel('Training loss')\n",
        "plt.legend('Training loss')\n",
        "plt.show()"
      ],
      "execution_count": null,
      "outputs": [
        {
          "output_type": "display_data",
          "data": {
            "text/plain": [
              "<Figure size 432x288 with 1 Axes>"
            ],
            "image/png": "[encoded data removed]"
          },
          "metadata": {
            "needs_background": "light"
          }
        }
      ]
    },
    {
      "cell_type": "code",
      "metadata": {
        "id": "Pg-lJ5XBbhUb",
        "colab": {
          "base_uri": "https://localhost:8080/",
          "height": 312
        },
        "outputId": "f288bcea-689c-4dd2-984f-a2569d9db9ee"
      },
      "source": [
        "plt.plot(epochs_hist.history['loss'], color='blue', label='Training loss')\n",
        "plt.plot(epochs_hist.history['val_loss'], color='red', label='Validation loss')\n",
        "\n",
        "plt.title('Model loss progress during training the model')\n",
        "plt.xlabel('Epochs')\n",
        "plt.ylabel('Training loss / Validation Loss')"
      ],
      "execution_count": null,
      "outputs": [
        {
          "output_type": "execute_result",
          "data": {
            "text/plain": [
              "Text(0, 0.5, 'Training loss / Validation Loss')"
            ]
          },
          "metadata": {},
          "execution_count": 19
        },
        {
          "output_type": "display_data",
          "data": {
            "text/plain": [
              "<Figure size 432x288 with 1 Axes>"
            ],
            "image/png": "[encoded data removed]"
          },
          "metadata": {
            "needs_background": "light"
          }
        }
      ]
    },
    {
      "cell_type": "code",
      "metadata": {
        "id": "WRs-PwxS8tXH",
        "colab": {
          "base_uri": "https://localhost:8080/"
        },
        "outputId": "e88cf2e3-3683-41de-b9b4-03123cb37001"
      },
      "source": [
        "model.get_weights()"
      ],
      "execution_count": null,
      "outputs": [
        {
          "output_type": "execute_result",
          "data": {
            "text/plain": [
              "[array([[22.212175]], dtype=float32), array([24.958414], dtype=float32)]"
            ]
          },
          "metadata": {},
          "execution_count": 20
        }
      ]
    },
    {
      "cell_type": "code",
      "metadata": {
        "id": "LtdU6r1a_kIg",
        "colab": {
          "base_uri": "https://localhost:8080/"
        },
        "outputId": "971b501e-6650-4893-e589-aca4988b27a9"
      },
      "source": [
        "# Use the same model to perform predictions\n",
        "Temperature = 5\n",
        "Revenue = model.predict([Temperature])\n",
        "print('Revenue Prediction using trained ANN=', Revenue)"
      ],
      "execution_count": null,
      "outputs": [
        {
          "output_type": "stream",
          "name": "stdout",
          "text": [
            "1/1 [==============================] - 0s 91ms/step\n",
            "Revenue Prediction using trained ANN= [[136.01929]]\n"
          ]
        }
      ]
    },
    {
      "cell_type": "code",
      "metadata": {
        "id": "q2xFN8pI_6MS",
        "colab": {
          "base_uri": "https://localhost:8080/",
          "height": 312
        },
        "outputId": "6987499c-d667-45f7-b36a-ad8ed3314e3f"
      },
      "source": [
        "plt.scatter(X_train, y_train, color = 'g', label = 'actual revenue')\n",
        "plt.plot(X_train, model.predict(X_train), color = 'r', label = 'predicted revenue (regression)')\n",
        "plt.ylabel(\"Revenue collection (in dollars)\")\n",
        "plt.xlabel(\"Outdoor temprature (in Celsius)\")\n",
        "plt.title(\"Revenue vs Temperature plot for Ice Sale\")\n",
        "plt.legend()\n",
        "plt.show()"
      ],
      "execution_count": null,
      "outputs": [
        {
          "output_type": "stream",
          "name": "stdout",
          "text": [
            "16/16 [==============================] - 0s 2ms/step\n"
          ]
        },
        {
          "output_type": "display_data",
          "data": {
            "text/plain": [
              "<Figure size 432x288 with 1 Axes>"
            ],
            "image/png": "[encoded data removed]"
          },
          "metadata": {
            "needs_background": "light"
          }
        }
      ]
    },
    {
      "cell_type": "markdown",
      "metadata": {
        "id": "m9C369Y5GuwP"
      },
      "source": [
        "## STEP #6 Confirming the model using Regression Kit in Scikit learn! "
      ]
    },
    {
      "cell_type": "code",
      "metadata": {
        "id": "H0S3XpTGG83Z"
      },
      "source": [
        "# making dataset in batch\n",
        "\n",
        "X_train = X_train.values.reshape(-1,1)"
      ],
      "execution_count": null,
      "outputs": []
    },
    {
      "cell_type": "code",
      "metadata": {
        "id": "mY6CyjS2HKej",
        "colab": {
          "base_uri": "https://localhost:8080/"
        },
        "outputId": "ea733e10-21bb-4994-ba0a-f20f302c82b1"
      },
      "source": [
        "X_train.shape"
      ],
      "execution_count": null,
      "outputs": [
        {
          "output_type": "execute_result",
          "data": {
            "text/plain": [
              "(500, 1)"
            ]
          },
          "metadata": {},
          "execution_count": 24
        }
      ]
    },
    {
      "cell_type": "code",
      "metadata": {
        "id": "Av16dOwGHMmc"
      },
      "source": [
        "y_train = y_train.values.reshape(-1,1)"
      ],
      "execution_count": null,
      "outputs": []
    },
    {
      "cell_type": "code",
      "metadata": {
        "id": "kcAeXkOQHQYk",
        "colab": {
          "base_uri": "https://localhost:8080/"
        },
        "outputId": "ba03c2d5-e6bf-40b4-8ac0-3d39c0cc203b"
      },
      "source": [
        "y_train.shape"
      ],
      "execution_count": null,
      "outputs": [
        {
          "output_type": "execute_result",
          "data": {
            "text/plain": [
              "(500, 1)"
            ]
          },
          "metadata": {},
          "execution_count": 26
        }
      ]
    },
    {
      "cell_type": "code",
      "metadata": {
        "id": "jYKIUTPTHSgw"
      },
      "source": [
        "from sklearn.linear_model import  LinearRegression"
      ],
      "execution_count": null,
      "outputs": []
    },
    {
      "cell_type": "code",
      "metadata": {
        "id": "sFkYKz3SHZR-",
        "colab": {
          "base_uri": "https://localhost:8080/",
          "height": 75
        },
        "outputId": "9ccf7fd4-6c89-4ed6-bdb0-d59fc008ca6b"
      },
      "source": [
        "regressor = LinearRegression(fit_intercept= True) # asking LinearRegression to return the slope along with the Y-intercept\n",
        "regressor.fit(X_train, y_train)"
      ],
      "execution_count": null,
      "outputs": [
        {
          "output_type": "execute_result",
          "data": {
            "text/plain": [
              "LinearRegression()"
            ],
            "text/html": [
              "<style>#sk-container-id-1 {color: black;background-color: white;}#sk-container-id-1 pre{padding: 0;}#sk-container-id-1 div.sk-toggleable {background-color: white;}#sk-container-id-1 label.sk-toggleable__label {cursor: pointer;display: block;width: 100%;margin-bottom: 0;padding: 0.3em;box-sizing: border-box;text-align: center;}#sk-container-id-1 label.sk-toggleable__label-arrow:before {content: \"▸\";float: left;margin-right: 0.25em;color: #696969;}#sk-container-id-1 label.sk-toggleable__label-arrow:hover:before {color: black;}#sk-container-id-1 div.sk-estimator:hover label.sk-toggleable__label-arrow:before {color: black;}#sk-container-id-1 div.sk-toggleable__content {max-height: 0;max-width: 0;overflow: hidden;text-align: left;background-color: #f0f8ff;}#sk-container-id-1 div.sk-toggleable__content pre {margin: 0.2em;color: black;border-radius: 0.25em;background-color: #f0f8ff;}#sk-container-id-1 input.sk-toggleable__control:checked~div.sk-toggleable__content {max-height: 200px;max-width: 100%;overflow: auto;}#sk-container-id-1 input.sk-toggleable__control:checked~label.sk-toggleable__label-arrow:before {content: \"▾\";}#sk-container-id-1 div.sk-estimator input.sk-toggleable__control:checked~label.sk-toggleable__label {background-color: #d4ebff;}#sk-container-id-1 div.sk-label input.sk-toggleable__control:checked~label.sk-toggleable__label {background-color: #d4ebff;}#sk-container-id-1 input.sk-hidden--visually {border: 0;clip: rect(1px 1px 1px 1px);clip: rect(1px, 1px, 1px, 1px);height: 1px;margin: -1px;overflow: hidden;padding: 0;position: absolute;width: 1px;}#sk-container-id-1 div.sk-estimator {font-family: monospace;background-color: #f0f8ff;border: 1px dotted black;border-radius: 0.25em;box-sizing: border-box;margin-bottom: 0.5em;}#sk-container-id-1 div.sk-estimator:hover {background-color: #d4ebff;}#sk-container-id-1 div.sk-parallel-item::after {content: \"\";width: 100%;border-bottom: 1px solid gray;flex-grow: 1;}#sk-container-id-1 div.sk-label:hover label.sk-toggleable__label {background-color: #d4ebff;}#sk-container-id-1 div.sk-serial::before {content: \"\";position: absolute;border-left: 1px solid gray;box-sizing: border-box;top: 0;bottom: 0;left: 50%;z-index: 0;}#sk-container-id-1 div.sk-serial {display: flex;flex-direction: column;align-items: center;background-color: white;padding-right: 0.2em;padding-left: 0.2em;position: relative;}#sk-container-id-1 div.sk-item {position: relative;z-index: 1;}#sk-container-id-1 div.sk-parallel {display: flex;align-items: stretch;justify-content: center;background-color: white;position: relative;}#sk-container-id-1 div.sk-item::before, #sk-container-id-1 div.sk-parallel-item::before {content: \"\";position: absolute;border-left: 1px solid gray;box-sizing: border-box;top: 0;bottom: 0;left: 50%;z-index: -1;}#sk-container-id-1 div.sk-parallel-item {display: flex;flex-direction: column;z-index: 1;position: relative;background-color: white;}#sk-container-id-1 div.sk-parallel-item:first-child::after {align-self: flex-end;width: 50%;}#sk-container-id-1 div.sk-parallel-item:last-child::after {align-self: flex-start;width: 50%;}#sk-container-id-1 div.sk-parallel-item:only-child::after {width: 0;}#sk-container-id-1 div.sk-dashed-wrapped {border: 1px dashed gray;margin: 0 0.4em 0.5em 0.4em;box-sizing: border-box;padding-bottom: 0.4em;background-color: white;}#sk-container-id-1 div.sk-label label {font-family: monospace;font-weight: bold;display: inline-block;line-height: 1.2em;}#sk-container-id-1 div.sk-label-container {text-align: center;}#sk-container-id-1 div.sk-container {/* jupyter's `normalize.less` sets `[hidden] { display: none; }` but bootstrap.min.css set `[hidden] { display: none !important; }` so we also need the `!important` here to be able to override the default hidden behavior on the sphinx rendered scikit-learn.org. See: https://github.com/scikit-learn/scikit-learn/issues/21755 */display: inline-block !important;position: relative;}#sk-container-id-1 div.sk-text-repr-fallback {display: none;}</style><div id=\"sk-container-id-1\" class=\"sk-top-container\"><div class=\"sk-text-repr-fallback\"><pre>LinearRegression()</pre><b>In a Jupyter environment, please rerun this cell to show the HTML representation or trust the notebook. <br />On GitHub, the HTML representation is unable to render, please try loading this page with nbviewer.org.</b></div><div class=\"sk-container\" hidden><div class=\"sk-item\"><div class=\"sk-estimator sk-toggleable\"><input class=\"sk-toggleable__control sk-hidden--visually\" id=\"sk-estimator-id-1\" type=\"checkbox\" checked><label for=\"sk-estimator-id-1\" class=\"sk-toggleable__label sk-toggleable__label-arrow\">LinearRegression</label><div class=\"sk-toggleable__content\"><pre>LinearRegression()</pre></div></div></div></div></div>"
            ]
          },
          "metadata": {},
          "execution_count": 28
        }
      ]
    },
    {
      "cell_type": "code",
      "metadata": {
        "id": "RRe7qd61H9sp",
        "colab": {
          "base_uri": "https://localhost:8080/"
        },
        "outputId": "9a4871aa-c08f-43db-9864-0f33cab2641a"
      },
      "source": [
        "print('Linear Model Coeff(m)', regressor.coef_)\n",
        "print('Linear Model Coeff(b)', regressor.intercept_) "
      ],
      "execution_count": null,
      "outputs": [
        {
          "output_type": "stream",
          "name": "stdout",
          "text": [
            "Linear Model Coeff(m) [[21.44362551]]\n",
            "Linear Model Coeff(b) [44.83126709]\n"
          ]
        }
      ]
    },
    {
      "cell_type": "code",
      "metadata": {
        "id": "KOV1Pe0xINzE",
        "colab": {
          "base_uri": "https://localhost:8080/",
          "height": 295
        },
        "outputId": "ea005b94-003d-4ac8-9848-95fe8b6c7619"
      },
      "source": [
        "plt.scatter(X_train, y_train, color = 'y', label = 'actual revenue')\n",
        "plt.plot(X_train, regressor.predict(X_train), color = 'b', label = 'predicted revenue (regression)')\n",
        "plt.ylabel(\"Revenue collection (in dollars)\")\n",
        "plt.xlabel(\"Outdoor temprature (in Celsius)\")\n",
        "plt.title(\"Revenue vs Temperature plot for Ice Sale\")\n",
        "plt.legend()\n",
        "plt.show()"
      ],
      "execution_count": null,
      "outputs": [
        {
          "output_type": "display_data",
          "data": {
            "text/plain": [
              "<Figure size 432x288 with 1 Axes>"
            ],
            "image/png": "[encoded data removed]"
          },
          "metadata": {
            "needs_background": "light"
          }
        }
      ]
    },
    {
      "cell_type": "code",
      "metadata": {
        "id": "TmKdWh7KI14M",
        "colab": {
          "base_uri": "https://localhost:8080/"
        },
        "outputId": "e839c83b-d672-4e86-bdb0-73aa4bf455ac"
      },
      "source": [
        "# Use the same model to perform predictions\n",
        "Temperature = [5]\n",
        "Revenue = regressor.predict([Temperature])\n",
        "print('Revenue Prediction using regressor model=', Revenue)"
      ],
      "execution_count": null,
      "outputs": [
        {
          "output_type": "stream",
          "name": "stdout",
          "text": [
            "Revenue Prediction using regressor model= [[152.04939464]]\n"
          ]
        }
      ]
    }
  ]
}